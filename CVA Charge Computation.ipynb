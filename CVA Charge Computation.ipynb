{
 "cells": [
  {
   "cell_type": "code",
   "execution_count": 184,
   "metadata": {
    "collapsed": true
   },
   "outputs": [],
   "source": [
    "import pandas as pd\n",
    "import numpy as np\n",
    "import matplotlib.pyplot as plt\n",
    "%matplotlib inline\n",
    "from sklearn.linear_model import LinearRegression\n",
    "from numpy.linalg import eig\n",
    "from scipy.integrate import quad\n",
    "import random"
   ]
  },
  {
   "cell_type": "markdown",
   "metadata": {},
   "source": [
    "## Importing yield curve data and computing covariance matrix"
   ]
  },
  {
   "cell_type": "code",
   "execution_count": 181,
   "metadata": {
    "collapsed": true,
    "scrolled": true
   },
   "outputs": [],
   "source": [
    "yield_curve=pd.read_csv('Data.csv')\n",
    "\n",
    "#--------------------------> Differencing the Covariance Matrix <-----------------------------#\n",
    "differenced_yield_curve = yield_curve - yield_curve.shift(1)\n",
    "differenced_yield_curve.dropna(axis=0,inplace=True)\n",
    "cov_mat=(float(1)/differenced_yield_curve.shape[0])*np.matmul(differenced_yield_curve.values.T,differenced_yield_curve.values)\n",
    "\n",
    "#--------------------------> Annualising Covariance Matrix <-----------------------------#\n",
    "cov_mat*=252\n",
    "cov_mat/=10000\n",
    "\n"
   ]
  },
  {
   "cell_type": "code",
   "execution_count": 75,
   "metadata": {
    "scrolled": true
   },
   "outputs": [
    {
     "data": {
      "text/plain": [
       "[<matplotlib.lines.Line2D at 0x1a21f77210>]"
      ]
     },
     "execution_count": 75,
     "metadata": {},
     "output_type": "execute_result"
    },
    {
     "data": {
      "image/png": "[encoded data removed]",
      "text/plain": [
       "<Figure size 432x288 with 1 Axes>"
      ]
     },
     "metadata": {},
     "output_type": "display_data"
    }
   ],
   "source": [
    "plt.plot((eigen_values[0]**0.5)*eigen_vectors[:,0:1]*100)\n",
    "plt.plot((eigen_values[1]**0.5)*eigen_vectors[:,1:2]*100)\n",
    "plt.plot(-1*(eigen_values[2]**0.5)*eigen_vectors[:,2:3]*100)"
   ]
  },
  {
   "cell_type": "markdown",
   "metadata": {},
   "source": [
    "## PCA from yield curve "
   ]
  },
  {
   "cell_type": "code",
   "execution_count": 87,
   "metadata": {
    "collapsed": true
   },
   "outputs": [],
   "source": [
    "#--------------------------> Computing Eigen Values and Vectors <-----------------------------#\n",
    "eig_vals,eig_vects=eig(cov_mat)\n",
    "\n",
    "#----> Finding number of eigen values to be used based on the explained variance needed <----#\n",
    "explained_variance=0.9\n",
    "temp=np.copy(eig_vects)\n",
    "arr_index=np.argsort(eig_vals)[::-1]\n",
    "eig_vals=np.sort(eig_vals)[::-1]\n",
    "#----------------> Sorting Eigen Vectors based on the highes Eigen Values<-------------------# \n",
    "for i in range(len(arr_index)):\n",
    "    eig_vects[:,i]=temp[:,arr_index[i]]\n",
    "\n",
    "variance_ratios=np.copy(eig_vals)\n",
    "total_variation=np.sum(eig_vals)\n",
    "variance_ratios=variance_ratios/total_variation\n",
    "total_variance_ratio=np.cumsum(variance_ratios)\n",
    " \n",
    "#-------> Choosing Eigen Vectors based on the threshold of explained variance required<------# \n",
    "    \n",
    "for i in range(len(eig_vals)):\n",
    "    if explained_variance < total_variance_ratio[i]:\n",
    "        break\n",
    "\n",
    "no_components=i+1\n",
    "eigen_values=eig_vals[0:no_components]\n",
    "eigen_vectors=eig_vects[:,0:no_components]\n"
   ]
  },
  {
   "cell_type": "markdown",
   "metadata": {
    "collapsed": true
   },
   "source": [
    "## Fitting each component to a cubic spline and getting volatility function"
   ]
  },
  {
   "cell_type": "code",
   "execution_count": 79,
   "metadata": {
    "collapsed": true
   },
   "outputs": [],
   "source": [
    "\n",
    "# The volatilities are fit to cubic spline so that they can be integrated over within the drift calculation\n",
    "\n",
    "def fit(tenors,no_components,degree):\n",
    "    lr=LinearRegression()\n",
    "    fitted_vols=pd.DataFrame()\n",
    "    \n",
    "    names=[]\n",
    "    for b in range(degree):\n",
    "        names.append('Tau_power_{}'.format(b+1))\n",
    "    \n",
    "    \n",
    "    tenor=tenors[names]\n",
    "    spline=[0]*no_components\n",
    "    for i in range(no_components):\n",
    "        spline[i]=[0]*(degree+1)\n",
    "    #->Using the Linear Regression in sklearn to fit the polynomial to the volatility curve<-#\n",
    "        lr.fit(tenor,tenors['volatility_{}'.format(i+1)])\n",
    "        spline[i][0]=lr.intercept_\n",
    "        spline[i][1:degree+1]=lr.coef_\n",
    "        fitted_vols['fitted_volatility_{}'.format(i+1)]=lr.predict(tenor)\n",
    "    \n",
    "    return fitted_vols,spline"
   ]
  },
  {
   "cell_type": "code",
   "execution_count": 96,
   "metadata": {
    "scrolled": true
   },
   "outputs": [
    {
     "name": "stdout",
     "output_type": "stream",
     "text": [
      "    Tau_power_1  Tau_power_2   Tau_power_3  volatility_1  volatility_2  \\\n",
      "0      0.083333     0.006944      0.000579      0.000158     -0.000215   \n",
      "1      0.500000     0.250000      0.125000      0.002550     -0.003521   \n",
      "2      1.000000     1.000000      1.000000      0.004553     -0.005150   \n",
      "3      1.500000     2.250000      3.375000      0.005206     -0.005247   \n",
      "4      2.000000     4.000000      8.000000      0.005472     -0.005066   \n",
      "5      2.500000     6.250000     15.625000      0.005658     -0.004880   \n",
      "6      3.000000     9.000000     27.000000      0.005830     -0.004717   \n",
      "7      3.500000    12.250000     42.875000      0.005997     -0.004566   \n",
      "8      4.000000    16.000000     64.000000      0.006160     -0.004417   \n",
      "9      4.500000    20.250000     91.125000      0.006315     -0.004260   \n",
      "10     5.000000    25.000000    125.000000      0.006458     -0.004089   \n",
      "11     5.500000    30.250000    166.375000      0.006586     -0.003898   \n",
      "12     6.000000    36.000000    216.000000      0.006695     -0.003683   \n",
      "13     6.500000    42.250000    274.625000      0.006782     -0.003439   \n",
      "14     7.000000    49.000000    343.000000      0.006847     -0.003163   \n",
      "15     7.500000    56.250000    421.875000      0.006888     -0.002854   \n",
      "16     8.000000    64.000000    512.000000      0.006907     -0.002512   \n",
      "17     8.500000    72.250000    614.125000      0.006906     -0.002136   \n",
      "18     9.000000    81.000000    729.000000      0.006888     -0.001731   \n",
      "19     9.500000    90.250000    857.375000      0.006857     -0.001302   \n",
      "20    10.000000   100.000000   1000.000000      0.006816     -0.000854   \n",
      "21    10.500000   110.250000   1157.625000      0.006770     -0.000396   \n",
      "22    11.000000   121.000000   1331.000000      0.006721      0.000062   \n",
      "23    11.500000   132.250000   1520.875000      0.006673      0.000513   \n",
      "24    12.000000   144.000000   1728.000000      0.006626      0.000947   \n",
      "25    12.500000   156.250000   1953.125000      0.006584      0.001356   \n",
      "26    13.000000   169.000000   2197.000000      0.006546      0.001732   \n",
      "27    13.500000   182.250000   2460.375000      0.006513      0.002072   \n",
      "28    14.000000   196.000000   2744.000000      0.006484      0.002370   \n",
      "29    14.500000   210.250000   3048.625000      0.006461      0.002626   \n",
      "30    15.000000   225.000000   3375.000000      0.006442      0.002839   \n",
      "31    15.500000   240.250000   3723.875000      0.006427      0.003008   \n",
      "32    16.000000   256.000000   4096.000000      0.006415      0.003135   \n",
      "33    16.500000   272.250000   4492.125000      0.006407      0.003222   \n",
      "34    17.000000   289.000000   4913.000000      0.006401      0.003272   \n",
      "35    17.500000   306.250000   5359.375000      0.006397      0.003287   \n",
      "36    18.000000   324.000000   5832.000000      0.006394      0.003271   \n",
      "37    18.500000   342.250000   6331.625000      0.006394      0.003225   \n",
      "38    19.000000   361.000000   6859.000000      0.006395      0.003153   \n",
      "39    19.500000   380.250000   7414.875000      0.006397      0.003057   \n",
      "40    20.000000   400.000000   8000.000000      0.006400      0.002942   \n",
      "41    20.500000   420.250000   8615.125000      0.006403      0.002809   \n",
      "42    21.000000   441.000000   9261.000000      0.006408      0.002662   \n",
      "43    21.500000   462.250000   9938.375000      0.006413      0.002502   \n",
      "44    22.000000   484.000000  10648.000000      0.006418      0.002332   \n",
      "45    22.500000   506.250000  11390.625000      0.006424      0.002153   \n",
      "46    23.000000   529.000000  12167.000000      0.006431      0.001965   \n",
      "47    23.500000   552.250000  12977.875000      0.006438      0.001770   \n",
      "48    24.000000   576.000000  13824.000000      0.006445      0.001569   \n",
      "49    24.500000   600.250000  14706.125000      0.006453      0.001363   \n",
      "50    25.000000   625.000000  15625.000000      0.006461      0.001152   \n",
      "\n",
      "    volatility_3  fitted_volatility_1  fitted_volatility_2  \\\n",
      "0      -0.000009             0.002830            -0.003625   \n",
      "1       0.003493             0.003259            -0.003830   \n",
      "2       0.005141             0.003738            -0.004025   \n",
      "3       0.004547             0.004178            -0.004167   \n",
      "4       0.003511             0.004581            -0.004258   \n",
      "5       0.002502             0.004948            -0.004301   \n",
      "6       0.001596             0.005280            -0.004298   \n",
      "7       0.000795             0.005579            -0.004253   \n",
      "8       0.000089             0.005847            -0.004168   \n",
      "9      -0.000531             0.006084            -0.004046   \n",
      "10     -0.001067             0.006293            -0.003889   \n",
      "11     -0.001519             0.006474            -0.003700   \n",
      "12     -0.001889             0.006629            -0.003482   \n",
      "13     -0.002175             0.006759            -0.003237   \n",
      "14     -0.002378             0.006866            -0.002969   \n",
      "15     -0.002503             0.006951            -0.002679   \n",
      "16     -0.002552             0.007015            -0.002371   \n",
      "17     -0.002532             0.007061            -0.002047   \n",
      "18     -0.002452             0.007088            -0.001710   \n",
      "19     -0.002321             0.007100            -0.001363   \n",
      "20     -0.002147             0.007097            -0.001007   \n",
      "21     -0.001940             0.007080            -0.000647   \n",
      "22     -0.001710             0.007051            -0.000284   \n",
      "23     -0.001466             0.007012             0.000078   \n",
      "24     -0.001214             0.006963             0.000438   \n",
      "25     -0.000962             0.006906             0.000792   \n",
      "26     -0.000715             0.006843             0.001137   \n",
      "27     -0.000478             0.006775             0.001472   \n",
      "28     -0.000254             0.006703             0.001793   \n",
      "29     -0.000045             0.006629             0.002097   \n",
      "30      0.000148             0.006555             0.002382   \n",
      "31      0.000323             0.006480             0.002646   \n",
      "32      0.000479             0.006408             0.002885   \n",
      "33      0.000616             0.006339             0.003097   \n",
      "34      0.000735             0.006275             0.003279   \n",
      "35      0.000836             0.006217             0.003429   \n",
      "36      0.000919             0.006166             0.003544   \n",
      "37      0.000985             0.006125             0.003620   \n",
      "38      0.001036             0.006094             0.003657   \n",
      "39      0.001073             0.006074             0.003649   \n",
      "40      0.001097             0.006068             0.003597   \n",
      "41      0.001108             0.006077             0.003495   \n",
      "42      0.001110             0.006101             0.003342   \n",
      "43      0.001101             0.006143             0.003135   \n",
      "44      0.001085             0.006203             0.002872   \n",
      "45      0.001060             0.006284             0.002549   \n",
      "46      0.001029             0.006386             0.002165   \n",
      "47      0.000992             0.006512             0.001715   \n",
      "48      0.000949             0.006662             0.001199   \n",
      "49      0.000902             0.006837             0.000612   \n",
      "50      0.000852             0.007040            -0.000048   \n",
      "\n",
      "    fitted_volatility_3  \n",
      "0              0.004675  \n",
      "1              0.003968  \n",
      "2              0.003183  \n",
      "3              0.002465  \n",
      "4              0.001812  \n",
      "5              0.001221  \n",
      "6              0.000690  \n",
      "7              0.000217  \n",
      "8             -0.000201  \n",
      "9             -0.000567  \n",
      "10            -0.000882  \n",
      "11            -0.001149  \n",
      "12            -0.001370  \n",
      "13            -0.001548  \n",
      "14            -0.001686  \n",
      "15            -0.001784  \n",
      "16            -0.001847  \n",
      "17            -0.001876  \n",
      "18            -0.001874  \n",
      "19            -0.001842  \n",
      "20            -0.001785  \n",
      "21            -0.001703  \n",
      "22            -0.001599  \n",
      "23            -0.001476  \n",
      "24            -0.001335  \n",
      "25            -0.001181  \n",
      "26            -0.001014  \n",
      "27            -0.000837  \n",
      "28            -0.000652  \n",
      "29            -0.000463  \n",
      "30            -0.000271  \n",
      "31            -0.000078  \n",
      "32             0.000112  \n",
      "33             0.000298  \n",
      "34             0.000477  \n",
      "35             0.000647  \n",
      "36             0.000805  \n",
      "37             0.000949  \n",
      "38             0.001077  \n",
      "39             0.001186  \n",
      "40             0.001274  \n",
      "41             0.001338  \n",
      "42             0.001377  \n",
      "43             0.001387  \n",
      "44             0.001366  \n",
      "45             0.001312  \n",
      "46             0.001223  \n",
      "47             0.001096  \n",
      "48             0.000929  \n",
      "49             0.000719  \n",
      "50             0.000464  \n"
     ]
    }
   ],
   "source": [
    "degree = 3\n",
    "#----> Extracting the Tenors from the initial dataset and computing its polynomial terms<----#\n",
    "tenors=pd.DataFrame(differenced_yield_curve.columns.astype(float),columns=['Tau_power_1'])\n",
    "for j in range(1,degree):\n",
    "    tenors['Tau_power_{}'.format(j+1)]=tenors['Tau_power_1']**(j+1)\n",
    "\n",
    "\n",
    "#---> Computing the volatilities as sqrt(eig_val)*eig_Vectors <---#\n",
    "'''\n",
    "Intuition behind this fitting is that, the eigen vectors represent the major factors of movement\n",
    "within the curve. The Eigen Values are a proportion of the variance of the variance within the\n",
    "data so its square root represents the standard deviation. A multiplication of the kind represents \n",
    "the 1 standard of movement in the direction of the Eigen Vector. \n",
    "'''\n",
    "volatility_functions=[0]*no_components\n",
    "for i in range(no_components):\n",
    "    tenors['volatility_{}'.format(i+1)]=(eigen_values[i]**0.5)*eigen_vectors[:,i:i+1]\n",
    "#\n",
    "fitted_volatilities,splines=fit(tenors,no_components,degree)    \n",
    "tenors = pd.concat([tenors,fitted_volatilities],axis=1)\n",
    "print tenors"
   ]
  },
  {
   "cell_type": "code",
   "execution_count": 99,
   "metadata": {
    "scrolled": true
   },
   "outputs": [
    {
     "data": {
      "text/plain": [
       "\"\\n#splines=[[6.4E-03,0,0,0],[-3.6E-03,-5.7E-04,1.2E-04,-3.6E-06],[-4.8E-03,1.8E-03,-1.4E-04,3.1E-06]]\\n#print tenors\\nfor i in range(len(splines)):\\n    print splines[i]\\n#print splines\\n#plt.plot()\\n#print fitted_volatilities*100\\n#plt.plot(fitted_volatilities['volatility_3'])\""
      ]
     },
     "execution_count": 99,
     "metadata": {},
     "output_type": "execute_result"
    },
    {
     "data": {
      "image/png": "[encoded data removed]",
      "text/plain": [
       "<Figure size 432x288 with 1 Axes>"
      ]
     },
     "metadata": {},
     "output_type": "display_data"
    },
    {
     "data": {
      "image/png": "[encoded data removed]",
      "text/plain": [
       "<Figure size 432x288 with 1 Axes>"
      ]
     },
     "metadata": {},
     "output_type": "display_data"
    },
    {
     "data": {
      "image/png": "[encoded data removed]",
      "text/plain": [
       "<Figure size 432x288 with 1 Axes>"
      ]
     },
     "metadata": {},
     "output_type": "display_data"
    }
   ],
   "source": [
    "plt.plot(tenors['volatility_1'])\n",
    "plt.plot(tenors['fitted_volatility_1'])\n",
    "plt.figure()\n",
    "plt.plot(tenors['volatility_2'])\n",
    "plt.plot(tenors['fitted_volatility_2'])\n",
    "plt.figure()\n",
    "plt.plot(tenors['volatility_3'])\n",
    "plt.plot(tenors['fitted_volatility_3'])\n",
    "'''\n",
    "#splines=[[6.4E-03,0,0,0],[-3.6E-03,-5.7E-04,1.2E-04,-3.6E-06],[-4.8E-03,1.8E-03,-1.4E-04,3.1E-06]]\n",
    "#print tenors\n",
    "for i in range(len(splines)):\n",
    "    print splines[i]\n",
    "#print splines\n",
    "#plt.plot()\n",
    "#print fitted_volatilities*100\n",
    "#plt.plot(fitted_volatilities['volatility_3'])'''"
   ]
  },
  {
   "cell_type": "markdown",
   "metadata": {},
   "source": [
    "## Calibrating the drift term from the volatilities"
   ]
  },
  {
   "cell_type": "code",
   "execution_count": 42,
   "metadata": {
    "collapsed": true
   },
   "outputs": [],
   "source": [
    "# Function for integrating the cubic spline \n",
    "def integrand(x,spline):\n",
    "    var=0\n",
    "    for i in range(len(spline)):\n",
    "        var+=spline[i]*(x**i)\n",
    "    return var"
   ]
  },
  {
   "cell_type": "code",
   "execution_count": 101,
   "metadata": {
    "scrolled": false
   },
   "outputs": [
    {
     "data": {
      "text/plain": [
       "[<matplotlib.lines.Line2D at 0x1a112649d0>]"
      ]
     },
     "execution_count": 101,
     "metadata": {},
     "output_type": "execute_result"
    },
    {
     "data": {
      "image/png": "[encoded data removed]",
      "text/plain": [
       "<Figure size 432x288 with 1 Axes>"
      ]
     },
     "metadata": {},
     "output_type": "display_data"
    }
   ],
   "source": [
    "'''\n",
    "To compute the drift term the HJM framework technique is used\n",
    "'''\n",
    "no_of_tenors=len(tenors)\n",
    "drift_array=np.zeros(no_of_tenors,dtype=np.float)\n",
    "for i,k in zip(tenors['Tau_power_1'].values,range(no_of_tenors)):\n",
    "    drift=0\n",
    "    for j in range(no_components):\n",
    "        integration_result=quad(integrand,0,i,args=(splines[j]))[0]\n",
    "        vol=np.asscalar(tenors[tenors['Tau_power_1']==i]['fitted_volatility_{}'.format(j+1)])\n",
    "        drift_from_factor=integration_result*vol\n",
    "        drift+=drift_from_factor\n",
    "    drift_array[k]=drift\n",
    "        \n",
    "tenors['drift']=drift_array\n",
    "\n",
    "plt.plot(tenors['drift'])\n"
   ]
  },
  {
   "cell_type": "markdown",
   "metadata": {
    "collapsed": true
   },
   "source": [
    "## Simulating Mont Carlo Simulation"
   ]
  },
  {
   "cell_type": "code",
   "execution_count": 271,
   "metadata": {
    "collapsed": true
   },
   "outputs": [],
   "source": [
    "'''\n",
    "To do:\n",
    "1) Compute each model simulation\n",
    "2) Compute the expected exposure of each model and store it in a df column\n",
    "3) Can then compute all forms of stress testing on that '''\n",
    "\n",
    "def random_normal():\n",
    "    rns=np.zeros(3,dtype=float)\n",
    "    for i in range(3):\n",
    "        rn=0\n",
    "        for j in range(12):\n",
    "            rn+=random.uniform(-1,1)\n",
    "        rns[i]=rn-6\n",
    "    \n",
    "    return rns\n",
    "\n",
    "iterations=10\n",
    "delta_t=0.01\n",
    "cols=differenced_yield_curve.columns.astype(float)[0:int((maturity/dt)+1)]\n",
    "simulations=pd.DataFrame(columns=cols)\n",
    "simulations.loc[1]= yield_curve[yield_curve.index==1].values[0][0:int((maturity/dt)+1)]/100\n",
    "sim=simulations[-1:].values[0]\n",
    "j= mtm(fixed_rate,dt,sim)\n",
    "simulations['present_expected_exposure']=current_value(0.04,0.5,mtm(fixed_rate,dt,sim))\n",
    "\n",
    "for m in range(iterations):\n",
    "    prev_ir=simulations[-1:].values[0]\n",
    "    simulated_ir=[]\n",
    "    for i,j in zip(cols.values,range(len(cols))):\n",
    "    #for i,j in zip(tenors['Tau_power_1'].values,range(len(tenors['Tau_power_1'].values))):\n",
    "        drift=np.asscalar(tenors[tenors['Tau_power_1']==i]['drift'])\n",
    "        vol1=np.asscalar(tenors[tenors['Tau_power_1']==i]['fitted_volatility_1'])\n",
    "        vol2=np.asscalar(tenors[tenors['Tau_power_1']==i]['fitted_volatility_2'])\n",
    "        vol3=np.asscalar(tenors[tenors['Tau_power_1']==i]['fitted_volatility_3'])\n",
    "        dx=random_normal()\n",
    "        \n",
    "        if j!=50:\n",
    "            ir=prev_ir[j]+drift*delta_t+(vol1*dx[0]+vol2*dx[1]+vol3*dx[2])*(delta_t**2)+((prev_ir[j+1]-prev_ir[j])/0.5)*delta_t\n",
    "        else:\n",
    "            ir=prev_ir[j]+drift*delta_t+(vol1*dx[0]+vol2*dx[1]+vol3*dx[2])*(delta_t**2)+((prev_ir[j]-prev_ir[j-1])/0.5)*delta_t\n",
    "            \n",
    "        simulated_ir.append(ir)\n",
    "        \n",
    "    simulated_ir.append(current_value(0.04,0.5,mtm(fixed_rate,dt,simulated_ir)))\n",
    "    simulated_ir=np.array(simulated_ir)\n",
    "    simulations.loc[m+2]=simulated_ir\n",
    "    \n",
    "  "
   ]
  },
  {
   "cell_type": "markdown",
   "metadata": {
    "collapsed": true
   },
   "source": [
    "## Computing Mark-to-Market for the simulated Interest Rate Curve"
   ]
  },
  {
   "cell_type": "code",
   "execution_count": 281,
   "metadata": {},
   "outputs": [
    {
     "data": {
      "text/plain": [
       "[<matplotlib.lines.Line2D at 0x1a1ed78d50>]"
      ]
     },
     "execution_count": 281,
     "metadata": {},
     "output_type": "execute_result"
    },
    {
     "data": {
      "image/png": "[encoded data removed]",
      "text/plain": [
       "<Figure size 432x288 with 1 Axes>"
      ]
     },
     "metadata": {},
     "output_type": "display_data"
    }
   ],
   "source": [
    "simulations.sort_values('present_expected_exposure',inplace=True)\n",
    "j=simulations.loc[11].values\n",
    "plt.plot(mtm(0.045,0.5,j))"
   ]
  },
  {
   "cell_type": "code",
   "execution_count": 208,
   "metadata": {
    "collapsed": true
   },
   "outputs": [],
   "source": [
    "'''This function is responsible for discounting the expected exposure of the contract to \n",
    "present value. This is done to compute the worse expected exposure from the contract '''\n",
    "\n",
    "def current_value(fixed_rate,dt,prices):\n",
    "    pv=0\n",
    "    for i in range(len(prices)):\n",
    "        pv+=prices[i]*np.exp(-fixed_rate*dt*i)\n",
    "    return pv\n",
    "\n",
    "'''This function is responsible for computing the mark to market and thus finding the expected \n",
    "exposure of the contract over multiple tenors. '''\n",
    "\n",
    "def mtm(fixed_rate,dt,floating_rate):\n",
    "    fixed_rate=float(4.5)/100\n",
    "    payoffs=len(floating_rate)\n",
    "    dt=0.5\n",
    "    mtms=[]\n",
    "    expected_exposure=np.zeros(payoffs,dtype=np.float)\n",
    "    discount_rate=np.ones(payoffs,dtype=np.float)\n",
    "    sum_floating_rate=np.cumsum(floating_rate)\n",
    "\n",
    "    for i in range(payoffs):\n",
    "        discount_rate[i]=np.exp(-1*sum_floating_rate[i]*dt)\n",
    "\n",
    "    for i in range(payoffs):\n",
    "        mtm=0\n",
    "        for j in range(i+1,payoffs):\n",
    "    #-> The Mark to Market for the contract is the expected future sum of cashflows discounted to current date <-#\n",
    "            mtm+=(floating_rate[j]-fixed_rate)*dt*(discount_rate[j]/discount_rate[i])\n",
    "    #----------> If the mark to market of the contract needs to be visualised <---------#\n",
    "        mtms.append(mtm)\n",
    "    #----------> Expected Exposure is max of MtM and 0 <---------#    \n",
    "        expected_exposure[i]=max([mtm,0])\n",
    "    \n",
    "    return expected_exposure"
   ]
  },
  {
   "cell_type": "markdown",
   "metadata": {
    "collapsed": true
   },
   "source": [
    "## Computing CVA Charge"
   ]
  },
  {
   "cell_type": "code",
   "execution_count": 177,
   "metadata": {},
   "outputs": [
    {
     "name": "stdout",
     "output_type": "stream",
     "text": [
      "0.00135872836272\n"
     ]
    }
   ],
   "source": [
    "#-----------> Assuming a vector of probability of defaults for given tenors <-----------#\n",
    "def cva(r,dt,lgd,,probability_default,expected_exposure):\n",
    "    r=float(3.5)/100\n",
    "    probability_default=[0.0055432,0.00961257,0.01735601,0.0200013,0.226657,0.267139,0.03008673,0.03315894,  0.03810879,0.04330033,0.4945147]\n",
    "    cva=0\n",
    "    for i in range(payoffs):\n",
    "        cva+=probab_default[i]*expected_exposure[i]*np.exp(-r*i*dt)\n",
    "    \n",
    "    return cva*lgd"
   ]
  }
 ],
 "metadata": {
  "kernelspec": {
   "display_name": "Python 2",
   "language": "python",
   "name": "python2"
  },
  "language_info": {
   "codemirror_mode": {
    "name": "ipython",
    "version": 2
   },
   "file_extension": ".py",
   "mimetype": "text/x-python",
   "name": "python",
   "nbconvert_exporter": "python",
   "pygments_lexer": "ipython2",
   "version": "2.7.6"
  }
 },
 "nbformat": 4,
 "nbformat_minor": 2
}
